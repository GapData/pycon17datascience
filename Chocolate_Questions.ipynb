{
 "cells": [
  {
   "cell_type": "code",
   "execution_count": 15,
   "metadata": {
    "collapsed": true,
    "hideCode": true,
    "hidePrompt": true
   },
   "outputs": [],
   "source": [
    "%matplotlib inline\n",
    "import warnings\n",
    "warnings.filterwarnings('ignore')"
   ]
  },
  {
   "cell_type": "code",
   "execution_count": 16,
   "metadata": {
    "collapsed": true,
    "hideCode": true,
    "hidePrompt": true
   },
   "outputs": [],
   "source": [
    "import pandas as pd\n",
    "import matplotlib.pyplot as plt\n",
    "import numpy\n",
    "import numpy as np\n",
    "import seaborn as sns\n",
    "import xgboost\n",
    "from sklearn import tree\n",
    "from sklearn.tree import _tree\n",
    "import pydotplus\n",
    "from IPython.display import Image, display, clear_output\n",
    "from ipywidgets import widgets, Layout"
   ]
  },
  {
   "cell_type": "code",
   "execution_count": null,
   "metadata": {
    "collapsed": true,
    "hideCode": true,
    "hidePrompt": true
   },
   "outputs": [],
   "source": []
  },
  {
   "cell_type": "code",
   "execution_count": 17,
   "metadata": {
    "collapsed": true,
    "hideCode": true,
    "hidePrompt": true
   },
   "outputs": [],
   "source": [
    "trainData = pd.read_csv(\"schoko_num.csv\")"
   ]
  },
  {
   "cell_type": "code",
   "execution_count": 18,
   "metadata": {
    "collapsed": true,
    "hideCode": true,
    "hidePrompt": true
   },
   "outputs": [],
   "source": [
    "trainData = trainData / 5"
   ]
  },
  {
   "cell_type": "code",
   "execution_count": 19,
   "metadata": {
    "collapsed": true,
    "hideCode": true,
    "hidePrompt": true
   },
   "outputs": [],
   "source": [
    "trainData.columns= trainData.columns.str.rsplit('...').str[1] #only take the last word of each columns"
   ]
  },
  {
   "cell_type": "code",
   "execution_count": 20,
   "metadata": {
    "collapsed": true,
    "hideCode": true,
    "hidePrompt": true
   },
   "outputs": [],
   "source": [
    "trainData.columns= trainData.columns.str.replace('.', '') #get rid of ."
   ]
  },
  {
   "cell_type": "code",
   "execution_count": 21,
   "metadata": {
    "collapsed": true,
    "hideCode": true,
    "hidePrompt": true
   },
   "outputs": [],
   "source": [
    "names = trainData.columns[0:22]\n",
    "sorten = trainData.columns[22:29]"
   ]
  },
  {
   "cell_type": "code",
   "execution_count": 22,
   "metadata": {
    "hideCode": true,
    "hidePrompt": true
   },
   "outputs": [],
   "source": [
    "trainX=trainData.ix[:,0:22].copy()"
   ]
  },
  {
   "cell_type": "code",
   "execution_count": 23,
   "metadata": {
    "collapsed": true,
    "hideCode": true,
    "hidePrompt": true,
    "scrolled": true
   },
   "outputs": [],
   "source": [
    "#%%time\n",
    "model={}\n",
    "pred={}\n",
    "for sorte in sorten:\n",
    "    trainY=trainData[sorte].copy()\n",
    "    model[sorte] = xgboost.XGBRegressor()\n",
    "    model[sorte].fit(trainX, trainY)\n",
    "    #print(model[i].feature_importances_)\n",
    "    pred[sorte]= model[sorte].predict(trainX)\n",
    "    error=numpy.mean(numpy.abs(pred[sorte]-trainY))"
   ]
  },
  {
   "cell_type": "code",
   "execution_count": 24,
   "metadata": {
    "collapsed": true,
    "hideCode": true,
    "hidePrompt": true
   },
   "outputs": [],
   "source": [
    "def featureRank(sorte=\"Vollmilch\"):\n",
    "    print(\"Feature ranking of Sorte: \" + sorte)\n",
    "    importances = model[sorte].feature_importances_\n",
    "    indices = np.argsort(importances)[::-1]\n",
    "    namessort = names[indices]\n",
    "    plt.figure()\n",
    "    plt.title(\"Feature importances\")\n",
    "    plt.bar(range(trainX.shape[1]), importances[indices],\n",
    "           color=\"purple\", align=\"center\")\n",
    "    plt.xticks(range(trainX.shape[1]), namessort, rotation=90)\n",
    "    plt.xlim([-1, trainX.shape[1]])\n",
    "    plt.show()"
   ]
  },
  {
   "cell_type": "code",
   "execution_count": 25,
   "metadata": {
    "hideCode": true,
    "hidePrompt": true
   },
   "outputs": [],
   "source": [
    "#%%time\n",
    "from sklearn import linear_model\n",
    "lmodel={}\n",
    "for sorte in sorten:\n",
    "    trainY=trainData[sorte].copy()\n",
    "    lmodel[sorte] = linear_model.RandomizedLasso(alpha=0.0004)#hier stand 0.025 oder 0.25\n",
    "    lmodel[sorte].fit(trainX, trainY)"
   ]
  },
  {
   "cell_type": "code",
   "execution_count": 26,
   "metadata": {
    "collapsed": true,
    "hideCode": true,
    "hidePrompt": true
   },
   "outputs": [],
   "source": [
    "def tree_to_code(tree, feature_names):\n",
    "    tree_ = tree.tree_\n",
    "    feature_name = [\n",
    "        feature_names[i] if i != _tree.TREE_UNDEFINED else \"undefined!\"\n",
    "        for i in tree_.feature\n",
    "    ]\n",
    "    print(\"def tree({}):\".format(\", \".join(feature_names)))\n",
    "\n",
    "    def recurse(node, depth):\n",
    "        indent = \"  \" * depth\n",
    "        if tree_.feature[node] != _tree.TREE_UNDEFINED:\n",
    "            name = feature_name[node]\n",
    "            threshold = tree_.threshold[node]\n",
    "            print(\"{}if {} <= {}:\".format(indent, name, threshold))\n",
    "            recurse(tree_.children_left[node], depth + 1)\n",
    "            print(\"{}else:  # if {} > {}\".format(indent, name, threshold))\n",
    "            recurse(tree_.children_right[node], depth + 1)\n",
    "        else:\n",
    "            print(\"{}return {}\".format(indent, tree_.value[node]))\n",
    "\n",
    "    recurse(0, 1)"
   ]
  },
  {
   "cell_type": "code",
   "execution_count": 27,
   "metadata": {
    "collapsed": true,
    "hideCode": true,
    "hidePrompt": true
   },
   "outputs": [],
   "source": [
    "clf = tree.DecisionTreeRegressor(min_samples_leaf=4) # (max_depth=4) #min_samples_leaf=4\n",
    "trainYmult = trainData.ix[:,22:29]\n",
    "clf = clf.fit(trainX, trainYmult)"
   ]
  },
  {
   "cell_type": "code",
   "execution_count": 28,
   "metadata": {
    "collapsed": true,
    "hideCode": true,
    "hidePrompt": true
   },
   "outputs": [],
   "source": [
    "from IPython.display import Image\n",
    "import time"
   ]
  },
  {
   "cell_type": "code",
   "execution_count": 29,
   "metadata": {
    "hideCode": true,
    "hidePrompt": true
   },
   "outputs": [
    {
     "data": {
      "application/vnd.jupyter.widget-view+json": {
       "model_id": "4e8175e9f48144dbbaf36a67ffa325a3",
       "version_major": 2,
       "version_minor": 0
      },
      "text/plain": [
       "A Jupyter Widget"
      ]
     },
     "metadata": {},
     "output_type": "display_data"
    }
   ],
   "source": [
    "x = [\" \",'1','2','3','4','5']\n",
    "variable=0\n",
    "feature_names=names\n",
    "schongeklickt={}#merkt sich alle klicks, um wiederholungen zu vermeiden\n",
    "    #format name: value\n",
    "def redraw(turn, variable):\n",
    "  \n",
    "    tree_ = clf.tree_\n",
    "    feature_name = [\n",
    "        feature_names[i] if i != _tree.TREE_UNDEFINED else \"undefined!\"\n",
    "        for i in tree_.feature\n",
    "    ]\n",
    "    def recurse(node, depth):\n",
    "         \n",
    "        # indent = \"  \" * depth\n",
    "        if tree_.feature[node] != _tree.TREE_UNDEFINED:\n",
    "            name = feature_name[node]\n",
    "            threshold = tree_.threshold[node]\n",
    "            \n",
    "            if name in schongeklickt.keys():\n",
    "                if float(schongeklickt[name])/5 <= threshold:                    \n",
    "                    recurse(tree_.children_left[node], depth + 1)\n",
    "                else:  \n",
    "                    recurse(tree_.children_right[node], depth + 1)\n",
    "            else:\n",
    "                togl = widgets.ToggleButtons(\n",
    "                    options=x,\n",
    "                    description=name,\n",
    "                    disabled=False,\n",
    "                    button_style='', \n",
    "                    tooltip='Description')\n",
    "                    #layout = Layout(width='40px')) #correction for new update - smaller width\n",
    "                display(togl)\n",
    "                def on_click(value):\n",
    "                    if togl.value == \" \":\n",
    "                        pass\n",
    "                    else:\n",
    "                        schongeklickt[name]=togl.value\n",
    "                        if float(togl.value)/5 <= threshold:\n",
    "                            togl.disabled=True\n",
    "\n",
    "                            recurse(tree_.children_left[node], depth + 1)\n",
    "                        else:  \n",
    "                            togl.disabled=True\n",
    "                            recurse(tree_.children_right[node], depth + 1)\n",
    "                togl.observe(on_click, 'value')\n",
    "        else:\n",
    "            ergebnisse={}\n",
    "            for i in range(0, len(sorten)):\n",
    "                sorte= sorten[i]\n",
    "                prozent = str(tree_.value[node][i][0])\n",
    "                ergebnisse[sorte]=prozent\n",
    "            #    print(sorte + \": \" + prozent)\n",
    "            #print(sorted(ergebnisse, key=ergebnisse.get, reverse=True))\n",
    "            zweisort= sorted(ergebnisse, key=ergebnisse.get, reverse = True)\n",
    "            #print(max(ergebnisse, key=ergebnisse.get))\n",
    "            #print(zweisort)\n",
    "            schokovar = str(zweisort[0])+ \".jpg\"\n",
    "            display(Image(schokovar))\n",
    "            schokovar2 = str(zweisort[1])+ \".jpg\"\n",
    "            display(Image(schokovar2))\n",
    "            schokovar3 = str(zweisort[2])+ \".jpg\"\n",
    "            display(Image(schokovar3))\n",
    "            for i in range(0,len(sorten)): \n",
    "                print(zweisort[i] + \": \" + ergebnisse[zweisort[i]]) \n",
    "    recurse(0, 1)\n",
    "\n",
    "redraw(0, 0) # initializes the first choice"
   ]
  },
  {
   "cell_type": "code",
   "execution_count": null,
   "metadata": {
    "collapsed": true,
    "hideCode": true,
    "hidePrompt": true
   },
   "outputs": [],
   "source": []
  },
  {
   "cell_type": "code",
   "execution_count": null,
   "metadata": {
    "collapsed": true,
    "hideCode": true,
    "hidePrompt": true
   },
   "outputs": [],
   "source": []
  },
  {
   "cell_type": "code",
   "execution_count": null,
   "metadata": {
    "collapsed": true,
    "hideCode": true,
    "hidePrompt": true
   },
   "outputs": [],
   "source": []
  },
  {
   "cell_type": "code",
   "execution_count": null,
   "metadata": {
    "collapsed": true,
    "hideCode": true,
    "hidePrompt": true
   },
   "outputs": [],
   "source": []
  },
  {
   "cell_type": "code",
   "execution_count": null,
   "metadata": {
    "collapsed": true,
    "hideCode": true,
    "hidePrompt": true
   },
   "outputs": [],
   "source": []
  },
  {
   "cell_type": "code",
   "execution_count": null,
   "metadata": {
    "collapsed": true,
    "hideCode": true,
    "hidePrompt": true
   },
   "outputs": [],
   "source": []
  },
  {
   "cell_type": "code",
   "execution_count": null,
   "metadata": {
    "collapsed": true,
    "hideCode": true,
    "hidePrompt": true
   },
   "outputs": [],
   "source": []
  },
  {
   "cell_type": "code",
   "execution_count": null,
   "metadata": {
    "collapsed": true,
    "hideCode": true,
    "hidePrompt": true
   },
   "outputs": [],
   "source": []
  },
  {
   "cell_type": "code",
   "execution_count": null,
   "metadata": {
    "collapsed": true,
    "hideCode": true,
    "hidePrompt": true
   },
   "outputs": [],
   "source": []
  },
  {
   "cell_type": "code",
   "execution_count": null,
   "metadata": {
    "collapsed": true,
    "hideCode": true,
    "hidePrompt": true
   },
   "outputs": [],
   "source": []
  },
  {
   "cell_type": "code",
   "execution_count": null,
   "metadata": {
    "collapsed": true,
    "hideCode": true,
    "hidePrompt": true
   },
   "outputs": [],
   "source": []
  }
 ],
 "metadata": {
  "anaconda-cloud": {},
  "hide_code_all_hidden": true,
  "kernelspec": {
   "display_name": "Python [default]",
   "language": "python",
   "name": "python3"
  },
  "language_info": {
   "codemirror_mode": {
    "name": "ipython",
    "version": 3
   },
   "file_extension": ".py",
   "mimetype": "text/x-python",
   "name": "python",
   "nbconvert_exporter": "python",
   "pygments_lexer": "ipython3",
   "version": "3.5.4"
  },
  "widgets": {
   "state": {
    "3d2bd109153b47d0be2d372b81482867": {
     "views": [
      {
       "cell_index": 14
      }
     ]
    },
    "6d7fb8bf7f0a406984f7cda49e6f55a4": {
     "views": [
      {
       "cell_index": 14
      }
     ]
    },
    "84560c9ec7b442e1ac6a7e6d1969c918": {
     "views": [
      {
       "cell_index": 14
      }
     ]
    },
    "96bf971e98ab4aad97f4b25373b55324": {
     "views": [
      {
       "cell_index": 14
      }
     ]
    },
    "a156fce6c8564cf1a7f7578ed58b596c": {
     "views": [
      {
       "cell_index": 14
      }
     ]
    },
    "a437e730955f46738267ceba3a86b4c0": {
     "views": [
      {
       "cell_index": 14
      }
     ]
    },
    "bc6c492572ab4bf1b63ef3e1446fdee6": {
     "views": [
      {
       "cell_index": 14
      }
     ]
    },
    "cc947130f7df4f86bdab31650f69733b": {
     "views": [
      {
       "cell_index": 14
      }
     ]
    },
    "cf93bb98ac8544fca48aa6c91c6cbea5": {
     "views": [
      {
       "cell_index": 14
      }
     ]
    },
    "e645428cb4394e30a2cf0657de8e52b8": {
     "views": [
      {
       "cell_index": 14
      }
     ]
    },
    "ee300017e241479aa4e71a1b4540c289": {
     "views": [
      {
       "cell_index": 14
      }
     ]
    },
    "f8b79bbd9a9b406c93677a3bfe5dea76": {
     "views": [
      {
       "cell_index": 14
      }
     ]
    }
   },
   "version": "1.2.0"
  }
 },
 "nbformat": 4,
 "nbformat_minor": 1
}
